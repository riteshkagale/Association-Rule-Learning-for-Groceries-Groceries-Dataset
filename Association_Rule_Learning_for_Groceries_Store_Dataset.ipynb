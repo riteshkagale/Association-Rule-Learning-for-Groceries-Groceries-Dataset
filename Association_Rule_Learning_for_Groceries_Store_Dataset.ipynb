{
  "nbformat": 4,
  "nbformat_minor": 0,
  "metadata": {
    "colab": {
      "name": "Association Rule Learning for Groceries Store Dataset.ipynb",
      "provenance": [],
      "collapsed_sections": []
    },
    "kernelspec": {
      "name": "python3",
      "display_name": "Python 3"
    }
  },
  "cells": [
    {
      "cell_type": "markdown",
      "metadata": {
        "id": "1fziHl7Ar94J"
      },
      "source": [
        "# Apriori"
      ]
    },
    {
      "cell_type": "code",
      "metadata": {
        "id": "UJfitBClsJlT"
      },
      "source": [
        "import numpy as np\n",
        "import matplotlib.pyplot as plt\n",
        "import pandas as pd\n",
        "from datetime import datetime"
      ],
      "execution_count": 1,
      "outputs": []
    },
    {
      "cell_type": "code",
      "metadata": {
        "id": "0Wt-lFYt2hR4",
        "outputId": "3a1a37c5-38b9-4152-83b6-c58bfb932124",
        "colab": {
          "base_uri": "https://localhost:8080/",
          "height": 34
        }
      },
      "source": [
        "from google.colab import drive\n",
        "drive.mount('/content/gdrive')"
      ],
      "execution_count": 2,
      "outputs": [
        {
          "output_type": "stream",
          "text": [
            "Mounted at /content/gdrive\n"
          ],
          "name": "stdout"
        }
      ]
    },
    {
      "cell_type": "code",
      "metadata": {
        "id": "J_A-UFOAsaDf"
      },
      "source": [
        "dataset = pd.read_csv('/content/gdrive/My Drive/Colab Notebooks/GroceryStoreDataSet.csv', names=['Products'],  header = None)"
      ],
      "execution_count": 3,
      "outputs": []
    },
    {
      "cell_type": "code",
      "metadata": {
        "id": "XQ19qsU89__i",
        "outputId": "2fdc62d2-7d12-426b-89cf-4549dd6c185f",
        "colab": {
          "base_uri": "https://localhost:8080/",
          "height": 118
        }
      },
      "source": [
        "print(dataset.head())"
      ],
      "execution_count": 4,
      "outputs": [
        {
          "output_type": "stream",
          "text": [
            "                        Products\n",
            "0             MILK,BREAD,BISCUIT\n",
            "1  BREAD,MILK,BISCUIT,CORNFLAKES\n",
            "2            BREAD,TEA,BOURNVITA\n",
            "3           JAM,MAGGI,BREAD,MILK\n",
            "4              MAGGI,TEA,BISCUIT\n"
          ],
          "name": "stdout"
        }
      ]
    },
    {
      "cell_type": "code",
      "metadata": {
        "id": "4KNzWfwnGY7t",
        "outputId": "a6c9f2b0-c05a-4871-897d-d4b759b6e34f",
        "colab": {
          "base_uri": "https://localhost:8080/",
          "height": 34
        }
      },
      "source": [
        "print(dataset.columns)"
      ],
      "execution_count": 5,
      "outputs": [
        {
          "output_type": "stream",
          "text": [
            "Index(['Products'], dtype='object')\n"
          ],
          "name": "stdout"
        }
      ]
    },
    {
      "cell_type": "code",
      "metadata": {
        "id": "Tn0vfy1ubLrB",
        "outputId": "399dc57f-b89e-46c9-f2b3-6e9344a2f24a",
        "colab": {
          "base_uri": "https://localhost:8080/",
          "height": 353
        }
      },
      "source": [
        "print(dataset.values)"
      ],
      "execution_count": 6,
      "outputs": [
        {
          "output_type": "stream",
          "text": [
            "[['MILK,BREAD,BISCUIT']\n",
            " ['BREAD,MILK,BISCUIT,CORNFLAKES']\n",
            " ['BREAD,TEA,BOURNVITA']\n",
            " ['JAM,MAGGI,BREAD,MILK']\n",
            " ['MAGGI,TEA,BISCUIT']\n",
            " ['BREAD,TEA,BOURNVITA']\n",
            " ['MAGGI,TEA,CORNFLAKES']\n",
            " ['MAGGI,BREAD,TEA,BISCUIT']\n",
            " ['JAM,MAGGI,BREAD,TEA']\n",
            " ['BREAD,MILK']\n",
            " ['COFFEE,COCK,BISCUIT,CORNFLAKES']\n",
            " ['COFFEE,COCK,BISCUIT,CORNFLAKES']\n",
            " ['COFFEE,SUGER,BOURNVITA']\n",
            " ['BREAD,COFFEE,COCK']\n",
            " ['BREAD,SUGER,BISCUIT']\n",
            " ['COFFEE,SUGER,CORNFLAKES']\n",
            " ['BREAD,SUGER,BOURNVITA']\n",
            " ['BREAD,COFFEE,SUGER']\n",
            " ['BREAD,COFFEE,SUGER']\n",
            " ['TEA,MILK,COFFEE,CORNFLAKES']]\n"
          ],
          "name": "stdout"
        }
      ]
    },
    {
      "cell_type": "code",
      "metadata": {
        "id": "bYkr1T3WbSEz"
      },
      "source": [
        "data = list(dataset[\"Products\"].apply(lambda x:x.split(',')))"
      ],
      "execution_count": 7,
      "outputs": []
    },
    {
      "cell_type": "code",
      "metadata": {
        "id": "M_NfzJKRbfD5",
        "outputId": "885203c1-581c-4bff-8075-f50e3f22a56e",
        "colab": {
          "base_uri": "https://localhost:8080/",
          "height": 353
        }
      },
      "source": [
        "data"
      ],
      "execution_count": 8,
      "outputs": [
        {
          "output_type": "execute_result",
          "data": {
            "text/plain": [
              "[['MILK', 'BREAD', 'BISCUIT'],\n",
              " ['BREAD', 'MILK', 'BISCUIT', 'CORNFLAKES'],\n",
              " ['BREAD', 'TEA', 'BOURNVITA'],\n",
              " ['JAM', 'MAGGI', 'BREAD', 'MILK'],\n",
              " ['MAGGI', 'TEA', 'BISCUIT'],\n",
              " ['BREAD', 'TEA', 'BOURNVITA'],\n",
              " ['MAGGI', 'TEA', 'CORNFLAKES'],\n",
              " ['MAGGI', 'BREAD', 'TEA', 'BISCUIT'],\n",
              " ['JAM', 'MAGGI', 'BREAD', 'TEA'],\n",
              " ['BREAD', 'MILK'],\n",
              " ['COFFEE', 'COCK', 'BISCUIT', 'CORNFLAKES'],\n",
              " ['COFFEE', 'COCK', 'BISCUIT', 'CORNFLAKES'],\n",
              " ['COFFEE', 'SUGER', 'BOURNVITA'],\n",
              " ['BREAD', 'COFFEE', 'COCK'],\n",
              " ['BREAD', 'SUGER', 'BISCUIT'],\n",
              " ['COFFEE', 'SUGER', 'CORNFLAKES'],\n",
              " ['BREAD', 'SUGER', 'BOURNVITA'],\n",
              " ['BREAD', 'COFFEE', 'SUGER'],\n",
              " ['BREAD', 'COFFEE', 'SUGER'],\n",
              " ['TEA', 'MILK', 'COFFEE', 'CORNFLAKES']]"
            ]
          },
          "metadata": {
            "tags": []
          },
          "execution_count": 8
        }
      ]
    },
    {
      "cell_type": "code",
      "metadata": {
        "id": "DEgZuykqcvAN",
        "outputId": "c840e572-ed00-4d1f-d9d8-9fa3da3b7f89",
        "colab": {
          "base_uri": "https://localhost:8080/",
          "height": 195
        }
      },
      "source": [
        "from mlxtend.preprocessing import TransactionEncoder\n",
        "te = TransactionEncoder()\n",
        "te_data = te.fit(data).transform(data)\n",
        "dataset = pd.DataFrame(te_data,columns=te.columns_)\n",
        "dataset.head()"
      ],
      "execution_count": 9,
      "outputs": [
        {
          "output_type": "execute_result",
          "data": {
            "text/html": [
              "<div>\n",
              "<style scoped>\n",
              "    .dataframe tbody tr th:only-of-type {\n",
              "        vertical-align: middle;\n",
              "    }\n",
              "\n",
              "    .dataframe tbody tr th {\n",
              "        vertical-align: top;\n",
              "    }\n",
              "\n",
              "    .dataframe thead th {\n",
              "        text-align: right;\n",
              "    }\n",
              "</style>\n",
              "<table border=\"1\" class=\"dataframe\">\n",
              "  <thead>\n",
              "    <tr style=\"text-align: right;\">\n",
              "      <th></th>\n",
              "      <th>BISCUIT</th>\n",
              "      <th>BOURNVITA</th>\n",
              "      <th>BREAD</th>\n",
              "      <th>COCK</th>\n",
              "      <th>COFFEE</th>\n",
              "      <th>CORNFLAKES</th>\n",
              "      <th>JAM</th>\n",
              "      <th>MAGGI</th>\n",
              "      <th>MILK</th>\n",
              "      <th>SUGER</th>\n",
              "      <th>TEA</th>\n",
              "    </tr>\n",
              "  </thead>\n",
              "  <tbody>\n",
              "    <tr>\n",
              "      <th>0</th>\n",
              "      <td>True</td>\n",
              "      <td>False</td>\n",
              "      <td>True</td>\n",
              "      <td>False</td>\n",
              "      <td>False</td>\n",
              "      <td>False</td>\n",
              "      <td>False</td>\n",
              "      <td>False</td>\n",
              "      <td>True</td>\n",
              "      <td>False</td>\n",
              "      <td>False</td>\n",
              "    </tr>\n",
              "    <tr>\n",
              "      <th>1</th>\n",
              "      <td>True</td>\n",
              "      <td>False</td>\n",
              "      <td>True</td>\n",
              "      <td>False</td>\n",
              "      <td>False</td>\n",
              "      <td>True</td>\n",
              "      <td>False</td>\n",
              "      <td>False</td>\n",
              "      <td>True</td>\n",
              "      <td>False</td>\n",
              "      <td>False</td>\n",
              "    </tr>\n",
              "    <tr>\n",
              "      <th>2</th>\n",
              "      <td>False</td>\n",
              "      <td>True</td>\n",
              "      <td>True</td>\n",
              "      <td>False</td>\n",
              "      <td>False</td>\n",
              "      <td>False</td>\n",
              "      <td>False</td>\n",
              "      <td>False</td>\n",
              "      <td>False</td>\n",
              "      <td>False</td>\n",
              "      <td>True</td>\n",
              "    </tr>\n",
              "    <tr>\n",
              "      <th>3</th>\n",
              "      <td>False</td>\n",
              "      <td>False</td>\n",
              "      <td>True</td>\n",
              "      <td>False</td>\n",
              "      <td>False</td>\n",
              "      <td>False</td>\n",
              "      <td>True</td>\n",
              "      <td>True</td>\n",
              "      <td>True</td>\n",
              "      <td>False</td>\n",
              "      <td>False</td>\n",
              "    </tr>\n",
              "    <tr>\n",
              "      <th>4</th>\n",
              "      <td>True</td>\n",
              "      <td>False</td>\n",
              "      <td>False</td>\n",
              "      <td>False</td>\n",
              "      <td>False</td>\n",
              "      <td>False</td>\n",
              "      <td>False</td>\n",
              "      <td>True</td>\n",
              "      <td>False</td>\n",
              "      <td>False</td>\n",
              "      <td>True</td>\n",
              "    </tr>\n",
              "  </tbody>\n",
              "</table>\n",
              "</div>"
            ],
            "text/plain": [
              "   BISCUIT  BOURNVITA  BREAD   COCK  COFFEE  ...    JAM  MAGGI   MILK  SUGER    TEA\n",
              "0     True      False   True  False   False  ...  False  False   True  False  False\n",
              "1     True      False   True  False   False  ...  False  False   True  False  False\n",
              "2    False       True   True  False   False  ...  False  False  False  False   True\n",
              "3    False      False   True  False   False  ...   True   True   True  False  False\n",
              "4     True      False  False  False   False  ...  False   True  False  False   True\n",
              "\n",
              "[5 rows x 11 columns]"
            ]
          },
          "metadata": {
            "tags": []
          },
          "execution_count": 9
        }
      ]
    },
    {
      "cell_type": "code",
      "metadata": {
        "id": "EYdo2RvGOFUe"
      },
      "source": [
        "from mlxtend.frequent_patterns import apriori, association_rules\n",
        "frq_items = apriori(dataset, min_support = 0.1, use_colnames = True)"
      ],
      "execution_count": 10,
      "outputs": []
    },
    {
      "cell_type": "code",
      "metadata": {
        "id": "8d21oSJDff45",
        "outputId": "2c72b049-8530-4b6a-a159-e23b1bad4b41",
        "colab": {
          "base_uri": "https://localhost:8080/",
          "height": 806
        }
      },
      "source": [
        "print(frq_items)"
      ],
      "execution_count": 11,
      "outputs": [
        {
          "output_type": "stream",
          "text": [
            "    support                             itemsets\n",
            "0      0.35                            (BISCUIT)\n",
            "1      0.20                          (BOURNVITA)\n",
            "2      0.65                              (BREAD)\n",
            "3      0.15                               (COCK)\n",
            "4      0.40                             (COFFEE)\n",
            "5      0.30                         (CORNFLAKES)\n",
            "6      0.10                                (JAM)\n",
            "7      0.25                              (MAGGI)\n",
            "8      0.25                               (MILK)\n",
            "9      0.30                              (SUGER)\n",
            "10     0.35                                (TEA)\n",
            "11     0.20                     (BREAD, BISCUIT)\n",
            "12     0.10                      (BISCUIT, COCK)\n",
            "13     0.10                    (COFFEE, BISCUIT)\n",
            "14     0.15                (CORNFLAKES, BISCUIT)\n",
            "15     0.10                     (BISCUIT, MAGGI)\n",
            "16     0.10                      (BISCUIT, MILK)\n",
            "17     0.10                       (TEA, BISCUIT)\n",
            "18     0.15                   (BREAD, BOURNVITA)\n",
            "19     0.10                   (SUGER, BOURNVITA)\n",
            "20     0.10                     (TEA, BOURNVITA)\n",
            "21     0.15                      (COFFEE, BREAD)\n",
            "22     0.10                         (BREAD, JAM)\n",
            "23     0.15                       (BREAD, MAGGI)\n",
            "24     0.20                        (BREAD, MILK)\n",
            "25     0.20                       (BREAD, SUGER)\n",
            "26     0.20                         (BREAD, TEA)\n",
            "27     0.15                       (COFFEE, COCK)\n",
            "28     0.10                   (CORNFLAKES, COCK)\n",
            "29     0.20                 (COFFEE, CORNFLAKES)\n",
            "30     0.20                      (COFFEE, SUGER)\n",
            "31     0.10                   (CORNFLAKES, MILK)\n",
            "32     0.10                    (TEA, CORNFLAKES)\n",
            "33     0.10                         (MAGGI, JAM)\n",
            "34     0.20                         (TEA, MAGGI)\n",
            "35     0.10               (BREAD, BISCUIT, MILK)\n",
            "36     0.10              (COFFEE, BISCUIT, COCK)\n",
            "37     0.10          (CORNFLAKES, BISCUIT, COCK)\n",
            "38     0.10        (COFFEE, CORNFLAKES, BISCUIT)\n",
            "39     0.10                (TEA, BISCUIT, MAGGI)\n",
            "40     0.10              (BREAD, TEA, BOURNVITA)\n",
            "41     0.10               (COFFEE, BREAD, SUGER)\n",
            "42     0.10                  (BREAD, MAGGI, JAM)\n",
            "43     0.10                  (BREAD, TEA, MAGGI)\n",
            "44     0.10           (COFFEE, CORNFLAKES, COCK)\n",
            "45     0.10  (COFFEE, CORNFLAKES, BISCUIT, COCK)\n"
          ],
          "name": "stdout"
        }
      ]
    },
    {
      "cell_type": "code",
      "metadata": {
        "id": "15jhZ9i_fiGF"
      },
      "source": [
        "rules = association_rules(frq_items, metric =\"lift\", min_threshold = 1) \n",
        "rules = rules.sort_values(['confidence', 'lift'], ascending =[False, False])"
      ],
      "execution_count": 12,
      "outputs": []
    },
    {
      "cell_type": "code",
      "metadata": {
        "id": "Xv202Yjvfqit",
        "outputId": "8c68bb19-5237-43af-88fd-47f277f416cf",
        "colab": {
          "base_uri": "https://localhost:8080/",
          "height": 639
        }
      },
      "source": [
        "rules.head(20)"
      ],
      "execution_count": 13,
      "outputs": [
        {
          "output_type": "execute_result",
          "data": {
            "text/html": [
              "<div>\n",
              "<style scoped>\n",
              "    .dataframe tbody tr th:only-of-type {\n",
              "        vertical-align: middle;\n",
              "    }\n",
              "\n",
              "    .dataframe tbody tr th {\n",
              "        vertical-align: top;\n",
              "    }\n",
              "\n",
              "    .dataframe thead th {\n",
              "        text-align: right;\n",
              "    }\n",
              "</style>\n",
              "<table border=\"1\" class=\"dataframe\">\n",
              "  <thead>\n",
              "    <tr style=\"text-align: right;\">\n",
              "      <th></th>\n",
              "      <th>antecedents</th>\n",
              "      <th>consequents</th>\n",
              "      <th>antecedent support</th>\n",
              "      <th>consequent support</th>\n",
              "      <th>support</th>\n",
              "      <th>confidence</th>\n",
              "      <th>lift</th>\n",
              "      <th>leverage</th>\n",
              "      <th>conviction</th>\n",
              "    </tr>\n",
              "  </thead>\n",
              "  <tbody>\n",
              "    <tr>\n",
              "      <th>95</th>\n",
              "      <td>(COFFEE, BISCUIT)</td>\n",
              "      <td>(CORNFLAKES, COCK)</td>\n",
              "      <td>0.10</td>\n",
              "      <td>0.10</td>\n",
              "      <td>0.10</td>\n",
              "      <td>1.0</td>\n",
              "      <td>10.000000</td>\n",
              "      <td>0.090</td>\n",
              "      <td>inf</td>\n",
              "    </tr>\n",
              "    <tr>\n",
              "      <th>98</th>\n",
              "      <td>(CORNFLAKES, COCK)</td>\n",
              "      <td>(COFFEE, BISCUIT)</td>\n",
              "      <td>0.10</td>\n",
              "      <td>0.10</td>\n",
              "      <td>0.10</td>\n",
              "      <td>1.0</td>\n",
              "      <td>10.000000</td>\n",
              "      <td>0.090</td>\n",
              "      <td>inf</td>\n",
              "    </tr>\n",
              "    <tr>\n",
              "      <th>40</th>\n",
              "      <td>(COFFEE, BISCUIT)</td>\n",
              "      <td>(COCK)</td>\n",
              "      <td>0.10</td>\n",
              "      <td>0.15</td>\n",
              "      <td>0.10</td>\n",
              "      <td>1.0</td>\n",
              "      <td>6.666667</td>\n",
              "      <td>0.085</td>\n",
              "      <td>inf</td>\n",
              "    </tr>\n",
              "    <tr>\n",
              "      <th>79</th>\n",
              "      <td>(JAM)</td>\n",
              "      <td>(BREAD, MAGGI)</td>\n",
              "      <td>0.10</td>\n",
              "      <td>0.15</td>\n",
              "      <td>0.10</td>\n",
              "      <td>1.0</td>\n",
              "      <td>6.666667</td>\n",
              "      <td>0.085</td>\n",
              "      <td>inf</td>\n",
              "    </tr>\n",
              "    <tr>\n",
              "      <th>90</th>\n",
              "      <td>(COFFEE, BISCUIT, CORNFLAKES)</td>\n",
              "      <td>(COCK)</td>\n",
              "      <td>0.10</td>\n",
              "      <td>0.15</td>\n",
              "      <td>0.10</td>\n",
              "      <td>1.0</td>\n",
              "      <td>6.666667</td>\n",
              "      <td>0.085</td>\n",
              "      <td>inf</td>\n",
              "    </tr>\n",
              "    <tr>\n",
              "      <th>99</th>\n",
              "      <td>(BISCUIT, COCK)</td>\n",
              "      <td>(COFFEE, CORNFLAKES)</td>\n",
              "      <td>0.10</td>\n",
              "      <td>0.20</td>\n",
              "      <td>0.10</td>\n",
              "      <td>1.0</td>\n",
              "      <td>5.000000</td>\n",
              "      <td>0.080</td>\n",
              "      <td>inf</td>\n",
              "    </tr>\n",
              "    <tr>\n",
              "      <th>31</th>\n",
              "      <td>(JAM)</td>\n",
              "      <td>(MAGGI)</td>\n",
              "      <td>0.10</td>\n",
              "      <td>0.25</td>\n",
              "      <td>0.10</td>\n",
              "      <td>1.0</td>\n",
              "      <td>4.000000</td>\n",
              "      <td>0.075</td>\n",
              "      <td>inf</td>\n",
              "    </tr>\n",
              "    <tr>\n",
              "      <th>58</th>\n",
              "      <td>(TEA, BISCUIT)</td>\n",
              "      <td>(MAGGI)</td>\n",
              "      <td>0.10</td>\n",
              "      <td>0.25</td>\n",
              "      <td>0.10</td>\n",
              "      <td>1.0</td>\n",
              "      <td>4.000000</td>\n",
              "      <td>0.075</td>\n",
              "      <td>inf</td>\n",
              "    </tr>\n",
              "    <tr>\n",
              "      <th>75</th>\n",
              "      <td>(BREAD, JAM)</td>\n",
              "      <td>(MAGGI)</td>\n",
              "      <td>0.10</td>\n",
              "      <td>0.25</td>\n",
              "      <td>0.10</td>\n",
              "      <td>1.0</td>\n",
              "      <td>4.000000</td>\n",
              "      <td>0.075</td>\n",
              "      <td>inf</td>\n",
              "    </tr>\n",
              "    <tr>\n",
              "      <th>48</th>\n",
              "      <td>(BISCUIT, COCK)</td>\n",
              "      <td>(CORNFLAKES)</td>\n",
              "      <td>0.10</td>\n",
              "      <td>0.30</td>\n",
              "      <td>0.10</td>\n",
              "      <td>1.0</td>\n",
              "      <td>3.333333</td>\n",
              "      <td>0.070</td>\n",
              "      <td>inf</td>\n",
              "    </tr>\n",
              "    <tr>\n",
              "      <th>53</th>\n",
              "      <td>(COFFEE, BISCUIT)</td>\n",
              "      <td>(CORNFLAKES)</td>\n",
              "      <td>0.10</td>\n",
              "      <td>0.30</td>\n",
              "      <td>0.10</td>\n",
              "      <td>1.0</td>\n",
              "      <td>3.333333</td>\n",
              "      <td>0.070</td>\n",
              "      <td>inf</td>\n",
              "    </tr>\n",
              "    <tr>\n",
              "      <th>92</th>\n",
              "      <td>(COFFEE, BISCUIT, COCK)</td>\n",
              "      <td>(CORNFLAKES)</td>\n",
              "      <td>0.10</td>\n",
              "      <td>0.30</td>\n",
              "      <td>0.10</td>\n",
              "      <td>1.0</td>\n",
              "      <td>3.333333</td>\n",
              "      <td>0.070</td>\n",
              "      <td>inf</td>\n",
              "    </tr>\n",
              "    <tr>\n",
              "      <th>47</th>\n",
              "      <td>(CORNFLAKES, COCK)</td>\n",
              "      <td>(BISCUIT)</td>\n",
              "      <td>0.10</td>\n",
              "      <td>0.35</td>\n",
              "      <td>0.10</td>\n",
              "      <td>1.0</td>\n",
              "      <td>2.857143</td>\n",
              "      <td>0.065</td>\n",
              "      <td>inf</td>\n",
              "    </tr>\n",
              "    <tr>\n",
              "      <th>60</th>\n",
              "      <td>(BISCUIT, MAGGI)</td>\n",
              "      <td>(TEA)</td>\n",
              "      <td>0.10</td>\n",
              "      <td>0.35</td>\n",
              "      <td>0.10</td>\n",
              "      <td>1.0</td>\n",
              "      <td>2.857143</td>\n",
              "      <td>0.065</td>\n",
              "      <td>inf</td>\n",
              "    </tr>\n",
              "    <tr>\n",
              "      <th>91</th>\n",
              "      <td>(COFFEE, CORNFLAKES, COCK)</td>\n",
              "      <td>(BISCUIT)</td>\n",
              "      <td>0.10</td>\n",
              "      <td>0.35</td>\n",
              "      <td>0.10</td>\n",
              "      <td>1.0</td>\n",
              "      <td>2.857143</td>\n",
              "      <td>0.065</td>\n",
              "      <td>inf</td>\n",
              "    </tr>\n",
              "    <tr>\n",
              "      <th>21</th>\n",
              "      <td>(COCK)</td>\n",
              "      <td>(COFFEE)</td>\n",
              "      <td>0.15</td>\n",
              "      <td>0.40</td>\n",
              "      <td>0.15</td>\n",
              "      <td>1.0</td>\n",
              "      <td>2.500000</td>\n",
              "      <td>0.090</td>\n",
              "      <td>inf</td>\n",
              "    </tr>\n",
              "    <tr>\n",
              "      <th>42</th>\n",
              "      <td>(BISCUIT, COCK)</td>\n",
              "      <td>(COFFEE)</td>\n",
              "      <td>0.10</td>\n",
              "      <td>0.40</td>\n",
              "      <td>0.10</td>\n",
              "      <td>1.0</td>\n",
              "      <td>2.500000</td>\n",
              "      <td>0.060</td>\n",
              "      <td>inf</td>\n",
              "    </tr>\n",
              "    <tr>\n",
              "      <th>86</th>\n",
              "      <td>(CORNFLAKES, COCK)</td>\n",
              "      <td>(COFFEE)</td>\n",
              "      <td>0.10</td>\n",
              "      <td>0.40</td>\n",
              "      <td>0.10</td>\n",
              "      <td>1.0</td>\n",
              "      <td>2.500000</td>\n",
              "      <td>0.060</td>\n",
              "      <td>inf</td>\n",
              "    </tr>\n",
              "    <tr>\n",
              "      <th>93</th>\n",
              "      <td>(BISCUIT, CORNFLAKES, COCK)</td>\n",
              "      <td>(COFFEE)</td>\n",
              "      <td>0.10</td>\n",
              "      <td>0.40</td>\n",
              "      <td>0.10</td>\n",
              "      <td>1.0</td>\n",
              "      <td>2.500000</td>\n",
              "      <td>0.060</td>\n",
              "      <td>inf</td>\n",
              "    </tr>\n",
              "    <tr>\n",
              "      <th>15</th>\n",
              "      <td>(JAM)</td>\n",
              "      <td>(BREAD)</td>\n",
              "      <td>0.10</td>\n",
              "      <td>0.65</td>\n",
              "      <td>0.10</td>\n",
              "      <td>1.0</td>\n",
              "      <td>1.538462</td>\n",
              "      <td>0.035</td>\n",
              "      <td>inf</td>\n",
              "    </tr>\n",
              "  </tbody>\n",
              "</table>\n",
              "</div>"
            ],
            "text/plain": [
              "                      antecedents           consequents  ...  leverage  conviction\n",
              "95              (COFFEE, BISCUIT)    (CORNFLAKES, COCK)  ...     0.090         inf\n",
              "98             (CORNFLAKES, COCK)     (COFFEE, BISCUIT)  ...     0.090         inf\n",
              "40              (COFFEE, BISCUIT)                (COCK)  ...     0.085         inf\n",
              "79                          (JAM)        (BREAD, MAGGI)  ...     0.085         inf\n",
              "90  (COFFEE, BISCUIT, CORNFLAKES)                (COCK)  ...     0.085         inf\n",
              "99                (BISCUIT, COCK)  (COFFEE, CORNFLAKES)  ...     0.080         inf\n",
              "31                          (JAM)               (MAGGI)  ...     0.075         inf\n",
              "58                 (TEA, BISCUIT)               (MAGGI)  ...     0.075         inf\n",
              "75                   (BREAD, JAM)               (MAGGI)  ...     0.075         inf\n",
              "48                (BISCUIT, COCK)          (CORNFLAKES)  ...     0.070         inf\n",
              "53              (COFFEE, BISCUIT)          (CORNFLAKES)  ...     0.070         inf\n",
              "92        (COFFEE, BISCUIT, COCK)          (CORNFLAKES)  ...     0.070         inf\n",
              "47             (CORNFLAKES, COCK)             (BISCUIT)  ...     0.065         inf\n",
              "60               (BISCUIT, MAGGI)                 (TEA)  ...     0.065         inf\n",
              "91     (COFFEE, CORNFLAKES, COCK)             (BISCUIT)  ...     0.065         inf\n",
              "21                         (COCK)              (COFFEE)  ...     0.090         inf\n",
              "42                (BISCUIT, COCK)              (COFFEE)  ...     0.060         inf\n",
              "86             (CORNFLAKES, COCK)              (COFFEE)  ...     0.060         inf\n",
              "93    (BISCUIT, CORNFLAKES, COCK)              (COFFEE)  ...     0.060         inf\n",
              "15                          (JAM)               (BREAD)  ...     0.035         inf\n",
              "\n",
              "[20 rows x 9 columns]"
            ]
          },
          "metadata": {
            "tags": []
          },
          "execution_count": 13
        }
      ]
    }
  ]
}